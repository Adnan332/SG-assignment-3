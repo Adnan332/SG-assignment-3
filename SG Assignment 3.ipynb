{
 "cells": [
  {
   "cell_type": "markdown",
   "metadata": {},
   "source": [
    "# Q1:"
   ]
  },
  {
   "cell_type": "markdown",
   "metadata": {},
   "source": [
    "Think of at least three kinds of your favorite pizza. Store these pizza names in a list, and then use a for loop to print the name of each pizza."
   ]
  },
  {
   "cell_type": "code",
   "execution_count": 1,
   "metadata": {},
   "outputs": [
    {
     "name": "stdout",
     "output_type": "stream",
     "text": [
      "fajita\n",
      "pepproni\n",
      "creamy\n"
     ]
    }
   ],
   "source": [
    "tasty_pizza = [\"fajita\", \"pepproni\", \"creamy\"]\n",
    "for each_pizza in tasty_pizza:\n",
    "    print(each_pizza)"
   ]
  },
  {
   "cell_type": "markdown",
   "metadata": {},
   "source": [
    "# Q2"
   ]
  },
  {
   "cell_type": "markdown",
   "metadata": {},
   "source": [
    "Start with your last question , Modify your for loop to print a sentence using the name of the pizza\n",
    "instead of printing just the name of the pizza. For each pizza you should\n",
    "have one line of output containing a simple statement like I like pepperoni\n",
    "pizza."
   ]
  },
  {
   "cell_type": "code",
   "execution_count": 2,
   "metadata": {},
   "outputs": [
    {
     "name": "stdout",
     "output_type": "stream",
     "text": [
      " I like fajita pizza\n",
      " I like pepproni pizza\n",
      " I like creamy pizza\n"
     ]
    }
   ],
   "source": [
    "for this in tasty_pizza:\n",
    "    print(f\" I like {this} pizza\")"
   ]
  },
  {
   "cell_type": "markdown",
   "metadata": {},
   "source": [
    "# Q3:"
   ]
  },
  {
   "cell_type": "markdown",
   "metadata": {},
   "source": [
    "Use a for loop to print the numbers from 1 to 20,\n",
    "inclusive."
   ]
  },
  {
   "cell_type": "code",
   "execution_count": 3,
   "metadata": {},
   "outputs": [
    {
     "name": "stdout",
     "output_type": "stream",
     "text": [
      " 1  2  3  4  5  6  7  8  9  10  11  12  13  14  15  16  17  18  19  20 \n"
     ]
    }
   ],
   "source": [
    "numbers_list = \"\"\n",
    "for i in range(1,21):\n",
    "    if i < 21:\n",
    "        numbers_list += str(f\" {i} \")\n",
    "    else:\n",
    "        break\n",
    "print(numbers_list)"
   ]
  },
  {
   "cell_type": "markdown",
   "metadata": {},
   "source": [
    "# Q4:"
   ]
  },
  {
   "cell_type": "markdown",
   "metadata": {},
   "source": [
    "Use the third argument of the range() function to make a list\n",
    "of the odd numbers from 1 to 20. Use a for loop to print each number."
   ]
  },
  {
   "cell_type": "code",
   "execution_count": 4,
   "metadata": {},
   "outputs": [
    {
     "name": "stdout",
     "output_type": "stream",
     "text": [
      "list of odd numbers from 1-20 is [1, 3, 5, 7, 9, 11, 13, 15, 17, 19]\n"
     ]
    }
   ],
   "source": [
    "odd_list = []\n",
    "for num in range(1,20,2):\n",
    "    if num < 20:\n",
    "        odd_list.append(num)\n",
    "    else:\n",
    "        break\n",
    "print(f\"list of odd numbers from 1-20 is {odd_list}\")"
   ]
  },
  {
   "cell_type": "markdown",
   "metadata": {},
   "source": [
    "# Q5:"
   ]
  },
  {
   "cell_type": "markdown",
   "metadata": {},
   "source": [
    "Make a list of the multiples of 3 from 3 to 30. Use a for loop to\n",
    "print the numbers in your list."
   ]
  },
  {
   "cell_type": "code",
   "execution_count": 24,
   "metadata": {},
   "outputs": [
    {
     "name": "stdout",
     "output_type": "stream",
     "text": [
      "[3, 6, 9, 12, 15, 18, 21, 24, 27, 30]\n"
     ]
    }
   ],
   "source": [
    "list_of_x_3 = []\n",
    "for num in range(3,31):\n",
    "    if num % 3 == 0:\n",
    "        list_of_x_3.append(num)\n",
    "    else:\n",
    "        continue  \n",
    "print(list_of_x_3)"
   ]
  },
  {
   "cell_type": "markdown",
   "metadata": {},
   "source": [
    "# Q6:"
   ]
  },
  {
   "cell_type": "markdown",
   "metadata": {},
   "source": [
    "A number raised to the third power is called a cube. For example,\n",
    "the cube of 2 is written as 2**3 in Python. Make a list of the first 10 cubes (that\n",
    "is, the cube of each integer from 1 through 10), and use a for loop to print out\n",
    "the value of each cube"
   ]
  },
  {
   "cell_type": "code",
   "execution_count": 18,
   "metadata": {},
   "outputs": [
    {
     "name": "stdout",
     "output_type": "stream",
     "text": [
      "this is the list of 1-10 numbers [1, 2, 3, 4, 5, 6, 7, 8, 9, 10]\n",
      " the cube of 1 is 1\n",
      " the cube of 2 is 8\n",
      " the cube of 3 is 27\n",
      " the cube of 4 is 64\n",
      " the cube of 5 is 125\n",
      " the cube of 6 is 216\n",
      " the cube of 7 is 343\n",
      " the cube of 8 is 512\n",
      " the cube of 9 is 729\n",
      " the cube of 10 is 1000\n"
     ]
    }
   ],
   "source": [
    "num_list = []\n",
    "for num in range(1,11):\n",
    "    if num < 11:\n",
    "        num_list.append(num)\n",
    "    else:\n",
    "        break\n",
    "print(f\"this is the list of 1-10 numbers {num_list}\")\n",
    "for digit in num_list:\n",
    "    print(f\" the cube of {digit} is {digit ** 3}\")\n",
    "    sep = \" \""
   ]
  },
  {
   "cell_type": "markdown",
   "metadata": {},
   "source": [
    "# Q7:"
   ]
  },
  {
   "cell_type": "markdown",
   "metadata": {},
   "source": [
    "###### Make a python program that conatains your nine favourite dishes in a list called foods.\n",
    "\n",
    "###### Print the message, The first three items in the list are:. \n",
    "###### Then use a slice to print the first three items from that program’s list.\n",
    "\n",
    "###### Print the message, Three items from the middle of the list are:\n",
    "###### Use a slice to print three items from the middle of the list.\n",
    "\n",
    "###### Print the message, The last three items in the list are:\n",
    "###### Use a slice to print the last three items in the list."
   ]
  },
  {
   "cell_type": "code",
   "execution_count": 5,
   "metadata": {},
   "outputs": [],
   "source": [
    "foods = [\"tikka\", \"nihari\", \"baryani\", \"karahi\", \"chapli kabab\", \"chowmen\", \"pizza\", \"zinger\", \"singaporean rice\" ]\n"
   ]
  },
  {
   "cell_type": "code",
   "execution_count": 6,
   "metadata": {},
   "outputs": [
    {
     "name": "stdout",
     "output_type": "stream",
     "text": [
      "the first three items are ['tikka', 'nihari', 'baryani'] \n",
      "three items in the middle are ['karahi', 'chapli kabab', 'chowmen'] \n",
      "last three items are ['pizza', 'zinger', 'singaporean rice']\n"
     ]
    }
   ],
   "source": [
    "print(f\"the first three items are {foods[0:3]} \\nthree items in the middle are {foods[3:6]} \\nlast three items are {foods[6:]}\")"
   ]
  },
  {
   "cell_type": "markdown",
   "metadata": {},
   "source": [
    "# Q8:"
   ]
  },
  {
   "cell_type": "markdown",
   "metadata": {},
   "source": [
    "### Start with your program from your last Question8.\n",
    "###### Make a copy of the list of foods, and call it friend_foods.\n",
    "###### Then, do the following:\n",
    "######    Add a new dish to the original list.\n",
    "######    Add a different dish to the list friend_foodss.\n",
    "######    Prove that you have two separate lists. \n",
    "###### Print the message, My favorite pizzas are: and then use a for loop to print the first list. \n",
    "###### Print the message,\n",
    "###### My friend’s favorite foods are:, and then use a for loop to print the second list.\n",
    "    \n",
    "##### NOTE: Make sure each new dish is stored in the appropriate list."
   ]
  },
  {
   "cell_type": "code",
   "execution_count": 7,
   "metadata": {},
   "outputs": [
    {
     "name": "stdout",
     "output_type": "stream",
     "text": [
      "['tikka', 'nihari', 'baryani', 'karahi', 'chapli kabab', 'chowmen', 'pizza', 'zinger', 'singaporean rice', 'baryani']\n",
      "['tikka', 'nihari', 'baryani', 'karahi', 'chapli kabab', 'chowmen', 'pizza', 'zinger', 'singaporean rice', 'zinger']\n"
     ]
    }
   ],
   "source": [
    "friend_foods = foods\n",
    "foods.append(\"baryani\")\n",
    "friend_foods = foods[0:-1]\n",
    "friend_foods.append(\"zinger\")\n",
    "print(foods)\n",
    "print(friend_foods)"
   ]
  },
  {
   "cell_type": "markdown",
   "metadata": {},
   "source": [
    "# Q9:"
   ]
  },
  {
   "cell_type": "markdown",
   "metadata": {},
   "source": [
    "Take a user input from console line.Store it in a variable called Alien_color.\n",
    "\n",
    "If the alien’s color is red, print a statement that the player just earned 5 points for shooting the alien.\n",
    "\n",
    "If the alien’s color isn’t green, print a statement that the player just earned 10 points.\n",
    "\n",
    "If the alien's color isn't red or green , print a statment :, Alien is no more....."
   ]
  },
  {
   "cell_type": "code",
   "execution_count": 9,
   "metadata": {
    "scrolled": true
   },
   "outputs": [
    {
     "name": "stdout",
     "output_type": "stream",
     "text": [
      "enter the alien's color here: green\n",
      "Alien is no more\n"
     ]
    }
   ],
   "source": [
    "Alien_color = input(\"enter the alien's color here: \")\n",
    "if Alien_color == \"red\":\n",
    "    print(\"the player just earned 5 points for shooting the alien.\")\n",
    "elif Alien_color == \"not green\":\n",
    "    print(\"the player just earned 10 points.\")\n",
    "else:\n",
    "    print(\"Alien is no more\")"
   ]
  },
  {
   "cell_type": "markdown",
   "metadata": {},
   "source": [
    "# Q10:"
   ]
  },
  {
   "cell_type": "markdown",
   "metadata": {},
   "source": [
    "Write an if-elif-else chain that determines a person’s\n",
    "stage of life. Set a value for the variable age, and then:\n",
    "    \n",
    "•\t If the person is less than 2 years old, print a message that the person is a baby.\n",
    "\n",
    "•\t If the person is at least 2 years old but less than 4, print a message that the person is a toddler.\n",
    "\n",
    "•\t If the person is at least 4 years old but less than 13, print a message that the person is a kid.\n",
    "\n",
    "•\t If the person is at least 13 years old but less than 20, print a message that the person is a teenager.\n",
    "\n",
    "•\t If the person is at least 20 years old but less than 65, print a message that the person is an adult.\n",
    "\n",
    "•\t If the person is age 65 or older, print a message that the person is an elder."
   ]
  },
  {
   "cell_type": "code",
   "execution_count": 10,
   "metadata": {},
   "outputs": [
    {
     "name": "stdout",
     "output_type": "stream",
     "text": [
      "enter your age here: 66\n",
      "the person is an elder\n"
     ]
    }
   ],
   "source": [
    "age = int(input(\"enter your age here: \"))\n",
    "if age < 2:\n",
    "    print(\"the person is a baby\")\n",
    "elif age == 2 or age < 4:\n",
    "    print(\"the person is a toddler\")\n",
    "elif age == 4 or age < 13:\n",
    "    print(\"the person is a kid\")\n",
    "elif age == 13 or age < 20:\n",
    "    print(\"the person is a teenager\")\n",
    "elif age == 20 or age < 65:\n",
    "    print(\"the person is an adult\")\n",
    "else:\n",
    "    print(\"the person is an elder\")"
   ]
  },
  {
   "cell_type": "markdown",
   "metadata": {},
   "source": [
    "# Q11:"
   ]
  },
  {
   "cell_type": "markdown",
   "metadata": {},
   "source": [
    "Do the following to create a program that simulates how websites ensure that everyone has a unique username.\n",
    "\n",
    "•\t Make a list of five or more usernames called current_users.\n",
    "\n",
    "•\t Make another list of five usernames called new_users. \n",
    "Make sure one or two of the new usernames are also in the current_users list.\n",
    "\n",
    "•\t Loop through the new_users list to see if each new username has already been used. \n",
    "If it has, print a message that the person will need to enter a new username. \n",
    "If a username has not been used, print a message saying that the username is available.\n",
    "\n",
    "•\t Make sure your comparison is case insensitive. If 'John' has been used, 'JOHN' should not be accepted."
   ]
  },
  {
   "cell_type": "code",
   "execution_count": 12,
   "metadata": {},
   "outputs": [
    {
     "name": "stdout",
     "output_type": "stream",
     "text": [
      "username nasir is available\n",
      "username mohsin has already been taken\n",
      "username umar has already been taken\n",
      "username razzaq is available\n",
      "username sarfraz is available\n"
     ]
    }
   ],
   "source": [
    "current_users = [\"oman\", \"mohsin\", \"umar\", \"bashir\", \"faisal\"]\n",
    "new_users = [\"nasir\", \"mohsin\", \"umar\", \"razzaq\", \"sarfraz\"]\n",
    "for name in new_users:\n",
    "    if name in current_users:\n",
    "        print(f\"username {name} has already been taken\")\n",
    "    else:\n",
    "        print(f\"username {name} is available\")"
   ]
  },
  {
   "cell_type": "markdown",
   "metadata": {},
   "source": [
    "# Q12:"
   ]
  },
  {
   "cell_type": "markdown",
   "metadata": {},
   "source": [
    "Use a dictionary to store information about a person you know.\n",
    "Store their first name, last name, age, and the city in which they live. \n",
    "You should have keys such as first_name, last_name, age, and city. \n",
    "Print each piece of information stored in your dictionary"
   ]
  },
  {
   "cell_type": "code",
   "execution_count": 15,
   "metadata": {},
   "outputs": [],
   "source": [
    "person_1 = {\"1st_name\": \"adnan\",\"lst_name\": \"saeed\", \"age\": \"24\", \"location\": \"karachi\"}"
   ]
  },
  {
   "cell_type": "code",
   "execution_count": 16,
   "metadata": {},
   "outputs": [
    {
     "name": "stdout",
     "output_type": "stream",
     "text": [
      "{'1st_name': 'adnan', 'lst_name': 'saeed', 'age': '24', 'location': 'karachi'}\n"
     ]
    }
   ],
   "source": [
    "print(person_1)"
   ]
  },
  {
   "cell_type": "markdown",
   "metadata": {},
   "source": [
    "# Q13:"
   ]
  },
  {
   "cell_type": "markdown",
   "metadata": {},
   "source": [
    "Starts with your last question 12 , loop through the dictionary’s keys and values.\n",
    "When you’re sure that your loop works, add five more Python terms to your\n",
    "dictionary . When you run your program again, these new words and meanings\n",
    "should automatically be included in the output."
   ]
  },
  {
   "cell_type": "code",
   "execution_count": 18,
   "metadata": {},
   "outputs": [
    {
     "name": "stdout",
     "output_type": "stream",
     "text": [
      "1st_name is adnan\n",
      "lst_name is saeed\n",
      "age is 24\n",
      "location is karachi\n",
      "append is add\n",
      "integer is number\n",
      "list is bunch of things\n",
      "upper is in caps\n",
      "lower is in small\n"
     ]
    }
   ],
   "source": [
    "for key, value in person_1.items():\n",
    "    print(f\"{key} is {value}\")\n",
    "    addition = {\"append\": \"add\", \"integer\": \"number\", \"list\": \"bunch of things\", \"upper\": \"in caps\", \"lower\": \"in small\"}\n",
    "for term, mean in addition.items():\n",
    "    person_1[f\"{term}\"] = f\"{mean}\""
   ]
  },
  {
   "cell_type": "markdown",
   "metadata": {},
   "source": [
    "# Q14:"
   ]
  },
  {
   "cell_type": "markdown",
   "metadata": {},
   "source": [
    "Make a dictionary containing three major rivers and the country\n",
    "each river runs through. One key-value pair might be 'nile': 'egypt'.\n",
    "    \n",
    "    \n",
    "•\t Use a loop to print a sentence about each river, such as The Nile runs\n",
    "through Egypt.\n",
    "\n",
    "NOTE: use upper case through keys and values."
   ]
  },
  {
   "cell_type": "code",
   "execution_count": 19,
   "metadata": {},
   "outputs": [],
   "source": [
    "major_rivers = {\"indus\": \"pakistan\", \"Nile\": \"egypt\", \"niger\": \"nigeria\"}"
   ]
  },
  {
   "cell_type": "code",
   "execution_count": 20,
   "metadata": {},
   "outputs": [
    {
     "name": "stdout",
     "output_type": "stream",
     "text": [
      " River Indus runs through Pakistan\n",
      " River Nile runs through Egypt\n",
      " River Niger runs through Nigeria\n"
     ]
    }
   ],
   "source": [
    "for river, country in major_rivers.items():\n",
    "    print(f\" River {river.title()} runs through {country.title()}\")"
   ]
  },
  {
   "cell_type": "markdown",
   "metadata": {},
   "source": [
    "# Q15:"
   ]
  },
  {
   "cell_type": "markdown",
   "metadata": {},
   "source": [
    "Make several dictionaries, where the name of each dictionary is the\n",
    "name of a pet. In each dictionary, include the kind of animal and the owner’s\n",
    "name. Store these dictionaries in a list called pets. Next, loop through your list\n",
    "and as you do print everything you know about each pet."
   ]
  },
  {
   "cell_type": "code",
   "execution_count": 21,
   "metadata": {},
   "outputs": [
    {
     "name": "stdout",
     "output_type": "stream",
     "text": [
      "{'name': 'tom', 'kind': 'cat', 'owner': 'umar'}\n",
      "{'name': 'tommy', 'kind': 'dog', 'owner': 'hammad'}\n",
      "{'name': 'star', 'kind': 'fish', 'owner': 'noman'}\n",
      "{'name': 'spidy', 'kind': 'rabbit', 'owner': 'babar'}\n"
     ]
    }
   ],
   "source": [
    "pet_1 = {\"name\": \"tom\", \"kind\": \"cat\", \"owner\": \"umar\"}\n",
    "pet_2 = {\"name\": \"tommy\", \"kind\": \"dog\", \"owner\": \"hammad\"}\n",
    "pet_3 = {\"name\": \"star\", \"kind\": \"fish\", \"owner\": \"noman\"}\n",
    "pet_4 = {\"name\": \"spidy\", \"kind\": \"rabbit\", \"owner\": \"babar\"}\n",
    "list_of_pets = [pet_1, pet_2, pet_3, pet_4]\n",
    "for each_pet in list_of_pets:\n",
    "    print(each_pet)"
   ]
  },
  {
   "cell_type": "code",
   "execution_count": null,
   "metadata": {},
   "outputs": [],
   "source": []
  },
  {
   "cell_type": "code",
   "execution_count": null,
   "metadata": {},
   "outputs": [],
   "source": []
  }
 ],
 "metadata": {
  "kernelspec": {
   "display_name": "Python 3",
   "language": "python",
   "name": "python3"
  },
  "language_info": {
   "codemirror_mode": {
    "name": "ipython",
    "version": 3
   },
   "file_extension": ".py",
   "mimetype": "text/x-python",
   "name": "python",
   "nbconvert_exporter": "python",
   "pygments_lexer": "ipython3",
   "version": "3.7.3"
  }
 },
 "nbformat": 4,
 "nbformat_minor": 2
}
